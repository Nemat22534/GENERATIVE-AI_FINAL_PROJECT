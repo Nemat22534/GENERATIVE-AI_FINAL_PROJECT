{
 "cells": [
  {
   "cell_type": "code",
   "execution_count": null,
   "metadata": {
    "colab": {
     "base_uri": "https://localhost:8080/"
    },
    "collapsed": true,
    "id": "KOBjUv_MMS_x",
    "outputId": "ed479f1f-9f6b-47d1-ef0e-83f61e54d064"
   },
   "outputs": [],
   "source": [
    "!pip install transformers datasets sacrebleu sentencepiece\n"
   ]
  },
  {
   "cell_type": "code",
   "execution_count": null,
   "metadata": {
    "id": "6V8DKLP6MtgA"
   },
   "outputs": [],
   "source": [
    "from transformers import MarianTokenizer, MarianMTModel, Seq2SeqTrainingArguments, Seq2SeqTrainer\n",
    "from datasets import load_dataset\n",
    "import torch\n"
   ]
  },
  {
   "cell_type": "code",
   "execution_count": null,
   "metadata": {
    "colab": {
     "base_uri": "https://localhost:8080/",
     "height": 66,
     "referenced_widgets": [
      "81a0778bdd244efc9a12c3e17a9fc322",
      "7f4d1aec15544e4095dc7ba33dc5bd50",
      "552e566a8bed4becb5672a8dc7169915",
      "2f1dc0ab5b3f414784caf54b6f7a986f",
      "709ff33985a84a009cd8d3161a544def",
      "cf64ac2840a2410e9343427e74a0a4cc",
      "029c67fe26624fbdbaa5275f66b79ed1",
      "611846c59c6c4209b36551a0784d15ee",
      "c08db7406fb047e2a775dd741af0960a",
      "4da1c4fcb08c45738810f694d6ca1c30",
      "56b9b77934b14c4d87a352dd5599c977"
     ]
    },
    "id": "o1LOu-Y-PEKk",
    "outputId": "e58e3e9f-2584-4b94-c760-eff26d60df9e"
   },
   "outputs": [],
   "source": [
    "from datasets import load_dataset\n",
    "\n",
    "# Try loading the opus_books dataset with a safer approach\n",
    "try:\n",
    "    dataset = load_dataset(\"opus_books\", \"en_ru\")\n",
    "    print(\"Dataset loaded successfully!\")\n",
    "except Exception as e:\n",
    "    print(f\"Error loading dataset: {e}\")\n"
   ]
  },
  {
   "cell_type": "code",
   "execution_count": null,
   "metadata": {
    "colab": {
     "base_uri": "https://localhost:8080/"
    },
    "id": "SLfGmerNQEFz",
    "outputId": "0c55f0a4-688e-40a8-b994-9b834713ae90"
   },
   "outputs": [],
   "source": [
    "from datasets import load_dataset\n",
    "\n",
    "# Try loading the opus_books dataset with a safer approach\n",
    "try:\n",
    "    dataset = load_dataset(\"opus_books\", \"en_ru\")\n",
    "    print(\"Dataset loaded successfully!\")\n",
    "    # Selecting the first 1000 training samples and 200 validation samples\n",
    "    train_data = dataset[\"train\"].select(range(1000))  # 1000 samples for training\n",
    "    val_data = dataset[\"validation\"].select(range(200))  # 200 samples for validation\n",
    "\n",
    "    # Check the structure of the selected subsets\n",
    "    print(f\"Training data sample size: {len(train_data)}\")\n",
    "    print(f\"Validation data sample size: {len(val_data)}\")\n",
    "\n",
    "except Exception as e:\n",
    "    print(f\"Error loading dataset: {e}\")"
   ]
  },
  {
   "cell_type": "code",
   "execution_count": null,
   "metadata": {
    "id": "AlqRso_WQPXO"
   },
   "outputs": [],
   "source": [
    "from transformers import MarianTokenizer, MarianMTModel, Seq2SeqTrainingArguments, Seq2SeqTrainer\n",
    "from datasets import load_dataset\n",
    "import torch\n",
    "\n"
   ]
  },
  {
   "cell_type": "code",
   "execution_count": null,
   "metadata": {
    "id": "ZdSm7PvbRs6d"
   },
   "outputs": [],
   "source": [
    "# Load the Marian tokenizer\n",
    "model_name = \"Helsinki-NLP/opus-mt-en-ru\"\n",
    "tokenizer = MarianTokenizer.from_pretrained(model_name)\n"
   ]
  },
  {
   "cell_type": "code",
   "execution_count": null,
   "metadata": {
    "id": "McUOzQwlR07g"
   },
   "outputs": [],
   "source": [
    "def tokenize(example):\n",
    "    # Extract the first translation entry if it's a list (handling potential multiple translations)\n",
    "    translation = example[\"translation\"][0] if isinstance(example[\"translation\"], list) else example[\"translation\"]\n",
    "    # Tokenizing the English and Russian translations\n",
    "    inputs = tokenizer(translation[\"en\"], truncation=True, padding=\"max_length\", max_length=128)\n",
    "    targets = tokenizer(translation[\"ru\"], truncation=True, padding=\"max_length\", max_length=128)\n",
    "    inputs[\"labels\"] = targets[\"input_ids\"]  # Add the Russian tokens as labels\n",
    "    return inputs"
   ]
  },
  {
   "cell_type": "code",
   "execution_count": null,
   "metadata": {
    "id": "WUsupgO5SGbP"
   },
   "outputs": [],
   "source": [
    "def tokenize(examples):\n",
    "    # Extract translations (handling potential multiple translations)\n",
    "    translations = [ex[0] if isinstance(ex, list) else ex for ex in examples[\"translation\"]]\n",
    "\n",
    "    # Prepare English translations for tokenization\n",
    "    en_texts = [t[\"en\"] for t in translations]\n",
    "\n",
    "    # Prepare Russian translations for tokenization\n",
    "    ru_texts = [t[\"ru\"] for t in translations]\n",
    "\n",
    "    # Tokenize English translations\n",
    "    inputs = tokenizer(en_texts, truncation=True, padding=\"max_length\", max_length=128, return_tensors=\"pt\")\n",
    "\n",
    "    # Tokenize Russian translations\n",
    "    targets = tokenizer(ru_texts, truncation=True, padding=\"max_length\", max_length=128, return_tensors=\"pt\")\n",
    "\n",
    "    # Add the Russian tokens as labels\n",
    "    inputs[\"labels\"] = targets[\"input_ids\"]\n",
    "\n",
    "    return inputs"
   ]
  },
  {
   "cell_type": "code",
   "execution_count": null,
   "metadata": {
    "id": "9qtYrGGuSgP8"
   },
   "outputs": [],
   "source": [
    "# Load the pre-trained MarianMT model\n",
    "model = MarianMTModel.from_pretrained(model_name)\n"
   ]
  },
  {
   "cell_type": "code",
   "execution_count": null,
   "metadata": {
    "id": "_8cmegfLTAJm"
   },
   "outputs": [],
   "source": [
    "from transformers import MarianMTModel, MarianTokenizer, Seq2SeqTrainer, Seq2SeqTrainingArguments\n"
   ]
  },
  {
   "cell_type": "code",
   "execution_count": null,
   "metadata": {
    "colab": {
     "base_uri": "https://localhost:8080/"
    },
    "id": "vRs8i8TETnZf",
    "outputId": "0cf24416-c519-4691-c914-998b8770eb31"
   },
   "outputs": [],
   "source": [
    "import transformers\n",
    "print(transformers.__version__)\n"
   ]
  },
  {
   "cell_type": "code",
   "execution_count": null,
   "metadata": {
    "id": "NoYkJtq7T1xt"
   },
   "outputs": [],
   "source": [
    "training_args = Seq2SeqTrainingArguments(\n",
    "    output_dir=\"./results\",          # Where to save the model and logs\n",
    "    num_train_epochs=3,              # Number of training epochs\n",
    "    per_device_train_batch_size=8,   # Batch size for training\n",
    "    per_device_eval_batch_size=8,    # Batch size for evaluation\n",
    "    logging_dir=\"./logs\",            # Directory for logs\n",
    "    logging_steps=500,               # Log every 500 steps\n",
    "    save_steps=1000,                 # Save model every 1000 steps\n",
    "    load_best_model_at_end=False,    # Disable loading the best model\n",
    "    weight_decay=0.01,               # Weight decay\n",
    ")"
   ]
  },
  {
   "cell_type": "code",
   "execution_count": null,
   "metadata": {
    "colab": {
     "base_uri": "https://localhost:8080/"
    },
    "id": "tPAZDV4peDtG",
    "outputId": "0cb3ca1c-9aac-4519-fbae-8dc838507ec7"
   },
   "outputs": [],
   "source": [
    "from transformers import MarianMTModel, MarianTokenizer, pipeline\n",
    "\n",
    "# Load the fine-tuned model and tokenizer\n",
    "model_name = \"Helsinki-NLP/opus-mt-en-ru\"\n",
    "tokenizer = MarianTokenizer.from_pretrained(model_name)\n",
    "model = MarianMTModel.from_pretrained(model_name)\n",
    "\n",
    "# Create a translation pipeline\n",
    "translator = pipeline(\"translation_en_to_ru\", model=model, tokenizer=tokenizer)\n",
    "\n",
    "# Example English sentences\n",
    "english_sentences = [\"My name is Nemat Dadashov\"]\n",
    "\n",
    "\n",
    "\n",
    "# Translate\n",
    "russian_translations = translator(english_sentences)\n",
    "\n",
    "# Display the results\n",
    "for en, ru in zip(english_sentences, russian_translations):\n",
    "    print(f\"ENGLISH: {en}\")\n",
    "    print(f\"RUSSIAN: {ru['translation_text']}\\n\")\n"
   ]
  }
 ],
 "metadata": {
  "accelerator": "GPU",
  "colab": {
   "gpuType": "T4",
   "provenance": []
  },
  "kernelspec": {
   "display_name": "Python 3",
   "name": "python3"
  },
  "language_info": {
   "name": "python"
  },
  "widgets": {
   "application/vnd.jupyter.widget-state+json": {
    "029c67fe26624fbdbaa5275f66b79ed1": {
     "model_module": "@jupyter-widgets/controls",
     "model_module_version": "1.5.0",
     "model_name": "DescriptionStyleModel",
     "state": {
      "_model_module": "@jupyter-widgets/controls",
      "_model_module_version": "1.5.0",
      "_model_name": "DescriptionStyleModel",
      "_view_count": null,
      "_view_module": "@jupyter-widgets/base",
      "_view_module_version": "1.2.0",
      "_view_name": "StyleView",
      "description_width": ""
     }
    },
    "2f1dc0ab5b3f414784caf54b6f7a986f": {
     "model_module": "@jupyter-widgets/controls",
     "model_module_version": "1.5.0",
     "model_name": "HTMLModel",
     "state": {
      "_dom_classes": [],
      "_model_module": "@jupyter-widgets/controls",
      "_model_module_version": "1.5.0",
      "_model_name": "HTMLModel",
      "_view_count": null,
      "_view_module": "@jupyter-widgets/controls",
      "_view_module_version": "1.5.0",
      "_view_name": "HTMLView",
      "description": "",
      "description_tooltip": null,
      "layout": "IPY_MODEL_4da1c4fcb08c45738810f694d6ca1c30",
      "placeholder": "​",
      "style": "IPY_MODEL_56b9b77934b14c4d87a352dd5599c977",
      "value": " 28.1k/28.1k [00:00&lt;00:00, 1.11MB/s]"
     }
    },
    "4da1c4fcb08c45738810f694d6ca1c30": {
     "model_module": "@jupyter-widgets/base",
     "model_module_version": "1.2.0",
     "model_name": "LayoutModel",
     "state": {
      "_model_module": "@jupyter-widgets/base",
      "_model_module_version": "1.2.0",
      "_model_name": "LayoutModel",
      "_view_count": null,
      "_view_module": "@jupyter-widgets/base",
      "_view_module_version": "1.2.0",
      "_view_name": "LayoutView",
      "align_content": null,
      "align_items": null,
      "align_self": null,
      "border": null,
      "bottom": null,
      "display": null,
      "flex": null,
      "flex_flow": null,
      "grid_area": null,
      "grid_auto_columns": null,
      "grid_auto_flow": null,
      "grid_auto_rows": null,
      "grid_column": null,
      "grid_gap": null,
      "grid_row": null,
      "grid_template_areas": null,
      "grid_template_columns": null,
      "grid_template_rows": null,
      "height": null,
      "justify_content": null,
      "justify_items": null,
      "left": null,
      "margin": null,
      "max_height": null,
      "max_width": null,
      "min_height": null,
      "min_width": null,
      "object_fit": null,
      "object_position": null,
      "order": null,
      "overflow": null,
      "overflow_x": null,
      "overflow_y": null,
      "padding": null,
      "right": null,
      "top": null,
      "visibility": null,
      "width": null
     }
    },
    "552e566a8bed4becb5672a8dc7169915": {
     "model_module": "@jupyter-widgets/controls",
     "model_module_version": "1.5.0",
     "model_name": "FloatProgressModel",
     "state": {
      "_dom_classes": [],
      "_model_module": "@jupyter-widgets/controls",
      "_model_module_version": "1.5.0",
      "_model_name": "FloatProgressModel",
      "_view_count": null,
      "_view_module": "@jupyter-widgets/controls",
      "_view_module_version": "1.5.0",
      "_view_name": "ProgressView",
      "bar_style": "success",
      "description": "",
      "description_tooltip": null,
      "layout": "IPY_MODEL_611846c59c6c4209b36551a0784d15ee",
      "max": 28064,
      "min": 0,
      "orientation": "horizontal",
      "style": "IPY_MODEL_c08db7406fb047e2a775dd741af0960a",
      "value": 28064
     }
    },
    "56b9b77934b14c4d87a352dd5599c977": {
     "model_module": "@jupyter-widgets/controls",
     "model_module_version": "1.5.0",
     "model_name": "DescriptionStyleModel",
     "state": {
      "_model_module": "@jupyter-widgets/controls",
      "_model_module_version": "1.5.0",
      "_model_name": "DescriptionStyleModel",
      "_view_count": null,
      "_view_module": "@jupyter-widgets/base",
      "_view_module_version": "1.2.0",
      "_view_name": "StyleView",
      "description_width": ""
     }
    },
    "611846c59c6c4209b36551a0784d15ee": {
     "model_module": "@jupyter-widgets/base",
     "model_module_version": "1.2.0",
     "model_name": "LayoutModel",
     "state": {
      "_model_module": "@jupyter-widgets/base",
      "_model_module_version": "1.2.0",
      "_model_name": "LayoutModel",
      "_view_count": null,
      "_view_module": "@jupyter-widgets/base",
      "_view_module_version": "1.2.0",
      "_view_name": "LayoutView",
      "align_content": null,
      "align_items": null,
      "align_self": null,
      "border": null,
      "bottom": null,
      "display": null,
      "flex": null,
      "flex_flow": null,
      "grid_area": null,
      "grid_auto_columns": null,
      "grid_auto_flow": null,
      "grid_auto_rows": null,
      "grid_column": null,
      "grid_gap": null,
      "grid_row": null,
      "grid_template_areas": null,
      "grid_template_columns": null,
      "grid_template_rows": null,
      "height": null,
      "justify_content": null,
      "justify_items": null,
      "left": null,
      "margin": null,
      "max_height": null,
      "max_width": null,
      "min_height": null,
      "min_width": null,
      "object_fit": null,
      "object_position": null,
      "order": null,
      "overflow": null,
      "overflow_x": null,
      "overflow_y": null,
      "padding": null,
      "right": null,
      "top": null,
      "visibility": null,
      "width": null
     }
    },
    "709ff33985a84a009cd8d3161a544def": {
     "model_module": "@jupyter-widgets/base",
     "model_module_version": "1.2.0",
     "model_name": "LayoutModel",
     "state": {
      "_model_module": "@jupyter-widgets/base",
      "_model_module_version": "1.2.0",
      "_model_name": "LayoutModel",
      "_view_count": null,
      "_view_module": "@jupyter-widgets/base",
      "_view_module_version": "1.2.0",
      "_view_name": "LayoutView",
      "align_content": null,
      "align_items": null,
      "align_self": null,
      "border": null,
      "bottom": null,
      "display": null,
      "flex": null,
      "flex_flow": null,
      "grid_area": null,
      "grid_auto_columns": null,
      "grid_auto_flow": null,
      "grid_auto_rows": null,
      "grid_column": null,
      "grid_gap": null,
      "grid_row": null,
      "grid_template_areas": null,
      "grid_template_columns": null,
      "grid_template_rows": null,
      "height": null,
      "justify_content": null,
      "justify_items": null,
      "left": null,
      "margin": null,
      "max_height": null,
      "max_width": null,
      "min_height": null,
      "min_width": null,
      "object_fit": null,
      "object_position": null,
      "order": null,
      "overflow": null,
      "overflow_x": null,
      "overflow_y": null,
      "padding": null,
      "right": null,
      "top": null,
      "visibility": null,
      "width": null
     }
    },
    "7f4d1aec15544e4095dc7ba33dc5bd50": {
     "model_module": "@jupyter-widgets/controls",
     "model_module_version": "1.5.0",
     "model_name": "HTMLModel",
     "state": {
      "_dom_classes": [],
      "_model_module": "@jupyter-widgets/controls",
      "_model_module_version": "1.5.0",
      "_model_name": "HTMLModel",
      "_view_count": null,
      "_view_module": "@jupyter-widgets/controls",
      "_view_module_version": "1.5.0",
      "_view_name": "HTMLView",
      "description": "",
      "description_tooltip": null,
      "layout": "IPY_MODEL_cf64ac2840a2410e9343427e74a0a4cc",
      "placeholder": "​",
      "style": "IPY_MODEL_029c67fe26624fbdbaa5275f66b79ed1",
      "value": "Downloading readme: 100%"
     }
    },
    "81a0778bdd244efc9a12c3e17a9fc322": {
     "model_module": "@jupyter-widgets/controls",
     "model_module_version": "1.5.0",
     "model_name": "HBoxModel",
     "state": {
      "_dom_classes": [],
      "_model_module": "@jupyter-widgets/controls",
      "_model_module_version": "1.5.0",
      "_model_name": "HBoxModel",
      "_view_count": null,
      "_view_module": "@jupyter-widgets/controls",
      "_view_module_version": "1.5.0",
      "_view_name": "HBoxView",
      "box_style": "",
      "children": [
       "IPY_MODEL_7f4d1aec15544e4095dc7ba33dc5bd50",
       "IPY_MODEL_552e566a8bed4becb5672a8dc7169915",
       "IPY_MODEL_2f1dc0ab5b3f414784caf54b6f7a986f"
      ],
      "layout": "IPY_MODEL_709ff33985a84a009cd8d3161a544def"
     }
    },
    "c08db7406fb047e2a775dd741af0960a": {
     "model_module": "@jupyter-widgets/controls",
     "model_module_version": "1.5.0",
     "model_name": "ProgressStyleModel",
     "state": {
      "_model_module": "@jupyter-widgets/controls",
      "_model_module_version": "1.5.0",
      "_model_name": "ProgressStyleModel",
      "_view_count": null,
      "_view_module": "@jupyter-widgets/base",
      "_view_module_version": "1.2.0",
      "_view_name": "StyleView",
      "bar_color": null,
      "description_width": ""
     }
    },
    "cf64ac2840a2410e9343427e74a0a4cc": {
     "model_module": "@jupyter-widgets/base",
     "model_module_version": "1.2.0",
     "model_name": "LayoutModel",
     "state": {
      "_model_module": "@jupyter-widgets/base",
      "_model_module_version": "1.2.0",
      "_model_name": "LayoutModel",
      "_view_count": null,
      "_view_module": "@jupyter-widgets/base",
      "_view_module_version": "1.2.0",
      "_view_name": "LayoutView",
      "align_content": null,
      "align_items": null,
      "align_self": null,
      "border": null,
      "bottom": null,
      "display": null,
      "flex": null,
      "flex_flow": null,
      "grid_area": null,
      "grid_auto_columns": null,
      "grid_auto_flow": null,
      "grid_auto_rows": null,
      "grid_column": null,
      "grid_gap": null,
      "grid_row": null,
      "grid_template_areas": null,
      "grid_template_columns": null,
      "grid_template_rows": null,
      "height": null,
      "justify_content": null,
      "justify_items": null,
      "left": null,
      "margin": null,
      "max_height": null,
      "max_width": null,
      "min_height": null,
      "min_width": null,
      "object_fit": null,
      "object_position": null,
      "order": null,
      "overflow": null,
      "overflow_x": null,
      "overflow_y": null,
      "padding": null,
      "right": null,
      "top": null,
      "visibility": null,
      "width": null
     }
    }
   }
  }
 },
 "nbformat": 4,
 "nbformat_minor": 0
}
